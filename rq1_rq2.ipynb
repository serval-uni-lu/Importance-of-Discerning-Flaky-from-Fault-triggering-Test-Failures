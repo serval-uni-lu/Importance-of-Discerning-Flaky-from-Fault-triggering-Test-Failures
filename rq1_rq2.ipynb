{
 "cells": [
  {
   "cell_type": "code",
   "execution_count": 1,
   "metadata": {},
   "outputs": [],
   "source": [
    "import pandas as pd\n",
    "import json\n",
    "\n",
    "# DATASET IMPORT\n",
    "\n",
    "# Load dataLinux: 10k builds from Linux Testers containing flaky runs and failure runs\n",
    "dataLinux = pd.read_json('dataset.35past.Linux10k.json')\n",
    "\n",
    "# Load dataPass: 2 builds from Linux Testers containing flaky runs, failure runs but more importantly all pass runs\n",
    "dataPass = pd.read_json('dataset.pass.json')\n",
    "\n",
    "# Load nft: List of Passing tests that are never found to be flaky or legit elsewhere\n",
    "file121= open('nft-121.json')\n",
    "file123= open('nft-123.json')\n",
    "nft121 = json.load(file121)\n",
    "nft123 = json.load(file123)\n",
    "file121.close()\n",
    "file123.close()"
   ]
  },
  {
   "cell_type": "code",
   "execution_count": 4,
   "metadata": {},
   "outputs": [
    {
     "name": "stderr",
     "output_type": "stream",
     "text": [
      "/var/folders/3z/d3pjcry13fnb29fcbmq5sdf4gxmft5/T/ipykernel_77843/839921138.py:16: FutureWarning: Sorting because non-concatenation axis is not aligned. A future version\n",
      "of pandas will change to not sort by default.\n",
      "\n",
      "To accept the future behavior, pass 'sort=False'.\n",
      "\n",
      "To retain the current behavior and silence the warning, pass 'sort=True'.\n",
      "\n",
      "  data = pd.concat([dataPasses, dataFlaky, dataLegit])\n"
     ]
    },
    {
     "name": "stdout",
     "output_type": "stream",
     "text": [
      "Data: Counter({0: 1482476, 2: 306017, 1: 11643})\n",
      "Data Train: Counter({0: 70069, 1: 8857})\n",
      "Data Test: Counter({1: 217503, 0: 2320})\n"
     ]
    }
   ],
   "source": [
    "import numpy as np\n",
    "from pprint import pprint\n",
    "from collections import Counter\n",
    "\n",
    "# Get data about PASS (2), LEGIT (1) and FLAKY (0) run\n",
    "dataPass = dataPass[(dataPass[\"label\"] == 2) & (dataPass[\"testSource\"] != \"\")]\n",
    "dataFlaky = dataLinux[(dataLinux[\"label\"] == 0) & (dataLinux[\"testSource\"] != \"\")]\n",
    "dataLegit = dataLinux[(dataLinux[\"label\"] == 1) & (dataLinux[\"testSource\"] != \"\")]\n",
    "\n",
    "# Keep clean NFT\n",
    "dataPass121 = dataPass[(dataPass[\"buildId\"] == 121238) & (dataPass[\"testId\"].isin(nft121))]\n",
    "dataPass123 = dataPass[(dataPass[\"buildId\"] == 123038) & (dataPass[\"testId\"].isin(nft123))]\n",
    "dataPasses = pd.concat([dataPass121, dataPass123])\n",
    "\n",
    "# Building one set of pass legit and flaky\n",
    "data = pd.concat([dataPasses, dataFlaky, dataLegit])\n",
    "data[\"flakeRate\"] = data[\"flakeRate\"].fillna(0)\n",
    "print(\"Data:\", Counter(data[\"label\"]))\n",
    "\n",
    "# Split 80/20\n",
    "dataTrain = data[data[\"buildId\"] <= 121238]\n",
    "dataTest = data[(data[\"buildId\"] > 121238) & (data[\"buildId\"] <= 123038)]\n",
    "\n",
    "\n",
    "# TRAINING SET (Uncomment the RQ to check, comment the others)\n",
    "# RQ 1\n",
    "dataTrain = dataTrain.drop_duplicates(subset=[\"testSource\", \"label\"], keep='first')\n",
    "dataTrain[\"label\"] = dataTrain[\"label\"].map({0:1, 1:0, 2:0})\n",
    "\n",
    "# RQ 2\n",
    "# dataTrain[\"label\"] = dataTrain[\"label\"].map({0:1, 1:0, 2:0})\n",
    "\n",
    "\n",
    "# TEST SET\n",
    "dataTest = dataTest[(dataTest[\"label\"] == 1) | (dataTest[\"label\"] == 0)]\n",
    "# Adapt labels: Flaky == 1, Legit == 0\n",
    "dataTest[\"label\"] = dataTest[\"label\"].map({0:1, 1:0})\n",
    "\n",
    "print(\"Data Train:\", Counter(dataTrain[\"label\"]))\n",
    "print(\"Data Test:\", Counter(dataTest[\"label\"]))"
   ]
  },
  {
   "cell_type": "code",
   "execution_count": 4,
   "metadata": {},
   "outputs": [],
   "source": [
    "from sklearn.compose import ColumnTransformer\n",
    "from sklearn.feature_extraction.text import TfidfVectorizer, CountVectorizer\n",
    "from sklearn.preprocessing import OneHotEncoder, KBinsDiscretizer, Binarizer\n",
    "from sklearn.impute import SimpleImputer\n",
    "\n",
    "# Columns definition\n",
    "testSource_col = \"testSource\"\n",
    "cat_cols = [\"testSuite\"]\n",
    "std_cols = [\"flakeRate\"]\n",
    "other_cols = [\"runDuration\"]\n",
    "\n",
    "# Feature transformation (Uncomment the RQ to check, comment the others)\n",
    "cols_trans = ColumnTransformer([\n",
    "    ('testSource', CountVectorizer(max_features=100), testSource_col),\n",
    "], remainder='drop')\n",
    "\n",
    "#RQs\n",
    "X_train = dataTrain[other_cols + std_cols + cat_cols + [testSource_col]]\n",
    "X_test = dataTest[other_cols + std_cols + cat_cols + [testSource_col]]\n",
    "\n",
    "y_train = dataTrain[\"label\"]\n",
    "y_test = dataTest[\"label\"]"
   ]
  },
  {
   "cell_type": "code",
   "execution_count": 5,
   "metadata": {},
   "outputs": [
    {
     "data": {
      "text/html": [
       "<style>#sk-c9e5197a-39c5-4a53-bcd2-d6c0a2c0f949 {color: black;background-color: white;}#sk-c9e5197a-39c5-4a53-bcd2-d6c0a2c0f949 pre{padding: 0;}#sk-c9e5197a-39c5-4a53-bcd2-d6c0a2c0f949 div.sk-toggleable {background-color: white;}#sk-c9e5197a-39c5-4a53-bcd2-d6c0a2c0f949 label.sk-toggleable__label {cursor: pointer;display: block;width: 100%;margin-bottom: 0;padding: 0.3em;box-sizing: border-box;text-align: center;}#sk-c9e5197a-39c5-4a53-bcd2-d6c0a2c0f949 label.sk-toggleable__label-arrow:before {content: \"▸\";float: left;margin-right: 0.25em;color: #696969;}#sk-c9e5197a-39c5-4a53-bcd2-d6c0a2c0f949 label.sk-toggleable__label-arrow:hover:before {color: black;}#sk-c9e5197a-39c5-4a53-bcd2-d6c0a2c0f949 div.sk-estimator:hover label.sk-toggleable__label-arrow:before {color: black;}#sk-c9e5197a-39c5-4a53-bcd2-d6c0a2c0f949 div.sk-toggleable__content {max-height: 0;max-width: 0;overflow: hidden;text-align: left;background-color: #f0f8ff;}#sk-c9e5197a-39c5-4a53-bcd2-d6c0a2c0f949 div.sk-toggleable__content pre {margin: 0.2em;color: black;border-radius: 0.25em;background-color: #f0f8ff;}#sk-c9e5197a-39c5-4a53-bcd2-d6c0a2c0f949 input.sk-toggleable__control:checked~div.sk-toggleable__content {max-height: 200px;max-width: 100%;overflow: auto;}#sk-c9e5197a-39c5-4a53-bcd2-d6c0a2c0f949 input.sk-toggleable__control:checked~label.sk-toggleable__label-arrow:before {content: \"▾\";}#sk-c9e5197a-39c5-4a53-bcd2-d6c0a2c0f949 div.sk-estimator input.sk-toggleable__control:checked~label.sk-toggleable__label {background-color: #d4ebff;}#sk-c9e5197a-39c5-4a53-bcd2-d6c0a2c0f949 div.sk-label input.sk-toggleable__control:checked~label.sk-toggleable__label {background-color: #d4ebff;}#sk-c9e5197a-39c5-4a53-bcd2-d6c0a2c0f949 input.sk-hidden--visually {border: 0;clip: rect(1px 1px 1px 1px);clip: rect(1px, 1px, 1px, 1px);height: 1px;margin: -1px;overflow: hidden;padding: 0;position: absolute;width: 1px;}#sk-c9e5197a-39c5-4a53-bcd2-d6c0a2c0f949 div.sk-estimator {font-family: monospace;background-color: #f0f8ff;border: 1px dotted black;border-radius: 0.25em;box-sizing: border-box;margin-bottom: 0.5em;}#sk-c9e5197a-39c5-4a53-bcd2-d6c0a2c0f949 div.sk-estimator:hover {background-color: #d4ebff;}#sk-c9e5197a-39c5-4a53-bcd2-d6c0a2c0f949 div.sk-parallel-item::after {content: \"\";width: 100%;border-bottom: 1px solid gray;flex-grow: 1;}#sk-c9e5197a-39c5-4a53-bcd2-d6c0a2c0f949 div.sk-label:hover label.sk-toggleable__label {background-color: #d4ebff;}#sk-c9e5197a-39c5-4a53-bcd2-d6c0a2c0f949 div.sk-serial::before {content: \"\";position: absolute;border-left: 1px solid gray;box-sizing: border-box;top: 2em;bottom: 0;left: 50%;}#sk-c9e5197a-39c5-4a53-bcd2-d6c0a2c0f949 div.sk-serial {display: flex;flex-direction: column;align-items: center;background-color: white;padding-right: 0.2em;padding-left: 0.2em;}#sk-c9e5197a-39c5-4a53-bcd2-d6c0a2c0f949 div.sk-item {z-index: 1;}#sk-c9e5197a-39c5-4a53-bcd2-d6c0a2c0f949 div.sk-parallel {display: flex;align-items: stretch;justify-content: center;background-color: white;}#sk-c9e5197a-39c5-4a53-bcd2-d6c0a2c0f949 div.sk-parallel::before {content: \"\";position: absolute;border-left: 1px solid gray;box-sizing: border-box;top: 2em;bottom: 0;left: 50%;}#sk-c9e5197a-39c5-4a53-bcd2-d6c0a2c0f949 div.sk-parallel-item {display: flex;flex-direction: column;position: relative;background-color: white;}#sk-c9e5197a-39c5-4a53-bcd2-d6c0a2c0f949 div.sk-parallel-item:first-child::after {align-self: flex-end;width: 50%;}#sk-c9e5197a-39c5-4a53-bcd2-d6c0a2c0f949 div.sk-parallel-item:last-child::after {align-self: flex-start;width: 50%;}#sk-c9e5197a-39c5-4a53-bcd2-d6c0a2c0f949 div.sk-parallel-item:only-child::after {width: 0;}#sk-c9e5197a-39c5-4a53-bcd2-d6c0a2c0f949 div.sk-dashed-wrapped {border: 1px dashed gray;margin: 0 0.4em 0.5em 0.4em;box-sizing: border-box;padding-bottom: 0.4em;background-color: white;position: relative;}#sk-c9e5197a-39c5-4a53-bcd2-d6c0a2c0f949 div.sk-label label {font-family: monospace;font-weight: bold;background-color: white;display: inline-block;line-height: 1.2em;}#sk-c9e5197a-39c5-4a53-bcd2-d6c0a2c0f949 div.sk-label-container {position: relative;z-index: 2;text-align: center;}#sk-c9e5197a-39c5-4a53-bcd2-d6c0a2c0f949 div.sk-container {/* jupyter's `normalize.less` sets `[hidden] { display: none; }` but bootstrap.min.css set `[hidden] { display: none !important; }` so we also need the `!important` here to be able to override the default hidden behavior on the sphinx rendered scikit-learn.org. See: https://github.com/scikit-learn/scikit-learn/issues/21755 */display: inline-block !important;position: relative;}#sk-c9e5197a-39c5-4a53-bcd2-d6c0a2c0f949 div.sk-text-repr-fallback {display: none;}</style><div id=\"sk-c9e5197a-39c5-4a53-bcd2-d6c0a2c0f949\" class=\"sk-top-container\"><div class=\"sk-text-repr-fallback\"><pre>Pipeline(steps=[(&#x27;trans&#x27;,\n",
       "                 ColumnTransformer(transformers=[(&#x27;testSource&#x27;,\n",
       "                                                  CountVectorizer(max_features=100),\n",
       "                                                  &#x27;testSource&#x27;)])),\n",
       "                (&#x27;m&#x27;,\n",
       "                 BalancedRandomForestClassifier(n_estimators=200, n_jobs=14,\n",
       "                                                random_state=14, verbose=1))])</pre><b>Please rerun this cell to show the HTML repr or trust the notebook.</b></div><div class=\"sk-container\" hidden><div class=\"sk-item sk-dashed-wrapped\"><div class=\"sk-label-container\"><div class=\"sk-label sk-toggleable\"><input class=\"sk-toggleable__control sk-hidden--visually\" id=\"0362538d-f856-4ea4-8a8a-c46141523e0c\" type=\"checkbox\" ><label for=\"0362538d-f856-4ea4-8a8a-c46141523e0c\" class=\"sk-toggleable__label sk-toggleable__label-arrow\">Pipeline</label><div class=\"sk-toggleable__content\"><pre>Pipeline(steps=[(&#x27;trans&#x27;,\n",
       "                 ColumnTransformer(transformers=[(&#x27;testSource&#x27;,\n",
       "                                                  CountVectorizer(max_features=100),\n",
       "                                                  &#x27;testSource&#x27;)])),\n",
       "                (&#x27;m&#x27;,\n",
       "                 BalancedRandomForestClassifier(n_estimators=200, n_jobs=14,\n",
       "                                                random_state=14, verbose=1))])</pre></div></div></div><div class=\"sk-serial\"><div class=\"sk-item sk-dashed-wrapped\"><div class=\"sk-label-container\"><div class=\"sk-label sk-toggleable\"><input class=\"sk-toggleable__control sk-hidden--visually\" id=\"a98b9ff3-cf92-422f-b0e2-9835f0ea9c5c\" type=\"checkbox\" ><label for=\"a98b9ff3-cf92-422f-b0e2-9835f0ea9c5c\" class=\"sk-toggleable__label sk-toggleable__label-arrow\">trans: ColumnTransformer</label><div class=\"sk-toggleable__content\"><pre>ColumnTransformer(transformers=[(&#x27;testSource&#x27;,\n",
       "                                 CountVectorizer(max_features=100),\n",
       "                                 &#x27;testSource&#x27;)])</pre></div></div></div><div class=\"sk-parallel\"><div class=\"sk-parallel-item\"><div class=\"sk-item\"><div class=\"sk-label-container\"><div class=\"sk-label sk-toggleable\"><input class=\"sk-toggleable__control sk-hidden--visually\" id=\"02f3b8e1-ec5c-4d01-adad-691cf6acf768\" type=\"checkbox\" ><label for=\"02f3b8e1-ec5c-4d01-adad-691cf6acf768\" class=\"sk-toggleable__label sk-toggleable__label-arrow\">testSource</label><div class=\"sk-toggleable__content\"><pre>testSource</pre></div></div></div><div class=\"sk-serial\"><div class=\"sk-item\"><div class=\"sk-estimator sk-toggleable\"><input class=\"sk-toggleable__control sk-hidden--visually\" id=\"9ec4489c-0d3e-4218-b460-1e96f1b12c9d\" type=\"checkbox\" ><label for=\"9ec4489c-0d3e-4218-b460-1e96f1b12c9d\" class=\"sk-toggleable__label sk-toggleable__label-arrow\">CountVectorizer</label><div class=\"sk-toggleable__content\"><pre>CountVectorizer(max_features=100)</pre></div></div></div></div></div></div></div></div><div class=\"sk-item\"><div class=\"sk-estimator sk-toggleable\"><input class=\"sk-toggleable__control sk-hidden--visually\" id=\"3ea2f7c0-0b08-4b1f-ac55-da156ea8c216\" type=\"checkbox\" ><label for=\"3ea2f7c0-0b08-4b1f-ac55-da156ea8c216\" class=\"sk-toggleable__label sk-toggleable__label-arrow\">BalancedRandomForestClassifier</label><div class=\"sk-toggleable__content\"><pre>BalancedRandomForestClassifier(n_estimators=200, n_jobs=14, random_state=14,\n",
       "                               verbose=1)</pre></div></div></div></div></div></div></div>"
      ],
      "text/plain": [
       "Pipeline(steps=[('trans',\n",
       "                 ColumnTransformer(transformers=[('testSource',\n",
       "                                                  CountVectorizer(max_features=100),\n",
       "                                                  'testSource')])),\n",
       "                ('m',\n",
       "                 BalancedRandomForestClassifier(n_estimators=200, n_jobs=14,\n",
       "                                                random_state=14, verbose=1))])"
      ]
     },
     "metadata": {},
     "output_type": "display_data"
    }
   ],
   "source": [
    "# NORMAL PIPELINE\n",
    "from numpy import mean\n",
    "from sklearn.feature_selection import SelectKBest, chi2\n",
    "from sklearn.model_selection import cross_validate, GridSearchCV, RandomizedSearchCV\n",
    "from sklearn.metrics import precision_score, recall_score, f1_score, matthews_corrcoef, r2_score\n",
    "from imblearn.over_sampling import SMOTE\n",
    "from imblearn.pipeline import Pipeline\n",
    "from sklearn import set_config\n",
    "set_config(display=\"diagram\")\n",
    "from sklearn.base import TransformerMixin, BaseEstimator\n",
    "from imblearn.ensemble import BalancedRandomForestClassifier \n",
    "from sklearn.ensemble import RandomForestClassifier\n",
    "\n",
    "# Pipeline\n",
    "smote = SMOTE(sampling_strategy=0.4)\n",
    "featureSelection = SelectKBest(chi2, k=60)\n",
    "rfc = BalancedRandomForestClassifier(n_estimators=200, n_jobs=14, verbose=1, random_state=14)\n",
    "\n",
    "steps = [\n",
    "    ('trans', cols_trans),\n",
    "#     ('fs', featureSelection),\n",
    "#     ('s', smote), \n",
    "    ('m', rfc)\n",
    "]\n",
    "pipe = Pipeline(steps=steps)\n",
    "display(pipe)"
   ]
  },
  {
   "cell_type": "code",
   "execution_count": 6,
   "metadata": {},
   "outputs": [
    {
     "name": "stderr",
     "output_type": "stream",
     "text": [
      "[Parallel(n_jobs=14)]: Using backend ThreadingBackend with 14 concurrent workers.\n",
      "[Parallel(n_jobs=14)]: Done  22 tasks      | elapsed:    1.3s\n",
      "[Parallel(n_jobs=14)]: Done 172 tasks      | elapsed:    7.8s\n",
      "[Parallel(n_jobs=14)]: Done 200 out of 200 | elapsed:    8.8s finished\n",
      "[Parallel(n_jobs=14)]: Using backend ThreadingBackend with 14 concurrent workers.\n",
      "[Parallel(n_jobs=14)]: Done  22 tasks      | elapsed:    0.1s\n",
      "[Parallel(n_jobs=14)]: Done 172 tasks      | elapsed:    0.7s\n",
      "[Parallel(n_jobs=14)]: Done 200 out of 200 | elapsed:    0.8s finished\n"
     ]
    },
    {
     "name": "stdout",
     "output_type": "stream",
     "text": [
      "\n",
      "Precision 0.9917692435454999\n",
      "Recall 0.9883265977940534\n",
      "MCC 0.1908693020798973\n",
      "F1 0.9900449279333842\n",
      "R2 -0.8832376568884432\n"
     ]
    }
   ],
   "source": [
    "# Fit and test\n",
    "pipe.fit(X_train, y_train)\n",
    "y_pred = pipe.predict(X_test)\n",
    "\n",
    "# Scores\n",
    "precision = precision_score(y_test, y_pred)\n",
    "recall = recall_score(y_test, y_pred)\n",
    "mcc = matthews_corrcoef(y_test, y_pred)\n",
    "f1 = f1_score(y_test, y_pred)\n",
    "r2 = r2_score(y_test, y_pred)\n",
    "\n",
    "print(\"\\nPrecision\", precision)\n",
    "print(\"Recall\", recall)\n",
    "print(\"MCC\", mcc)\n",
    "print(\"F1\", f1)\n",
    "print(\"R2\", r2)"
   ]
  },
  {
   "cell_type": "code",
   "execution_count": 7,
   "metadata": {},
   "outputs": [
    {
     "name": "stderr",
     "output_type": "stream",
     "text": [
      "/Users/guillaume.haben/Documents/Work/projects/ChromiumExperiments/ChromiumFlakyFailures/venv/lib/python3.8/site-packages/sklearn/utils/deprecation.py:87: FutureWarning: Function plot_confusion_matrix is deprecated; Function `plot_confusion_matrix` is deprecated in 1.0 and will be removed in 1.2. Use one of the class methods: ConfusionMatrixDisplay.from_predictions or ConfusionMatrixDisplay.from_estimator.\n",
      "  warnings.warn(msg, category=FutureWarning)\n",
      "[Parallel(n_jobs=14)]: Using backend ThreadingBackend with 14 concurrent workers.\n",
      "[Parallel(n_jobs=14)]: Done  22 tasks      | elapsed:    0.1s\n",
      "[Parallel(n_jobs=14)]: Done 172 tasks      | elapsed:    0.7s\n",
      "[Parallel(n_jobs=14)]: Done 200 out of 200 | elapsed:    0.8s finished\n"
     ]
    },
    {
     "data": {
      "image/png": "[encoded data removed]",
      "text/plain": [
       "<Figure size 640x480 with 2 Axes>"
      ]
     },
     "metadata": {},
     "output_type": "display_data"
    }
   ],
   "source": [
    "import sklearn.metrics as metrics\n",
    "import matplotlib.pyplot as plt\n",
    "\n",
    "# Confusion matrix\n",
    "metrics.plot_confusion_matrix(pipe, X_test, y_test, normalize=None, cmap='Blues', \n",
    "                              display_labels=[\"Non-Flaky\", \"Flaky\"], values_format = '.0f')\n",
    "plt.show()"
   ]
  },
  {
   "cell_type": "code",
   "execution_count": 14,
   "metadata": {},
   "outputs": [
    {
     "name": "stdout",
     "output_type": "stream",
     "text": [
      "Number of FP: 1784\n",
      "Number of TN: 536\n",
      "Number of FP with flake Rate > 0: 520\n",
      "FPR: 0.7689655172413793\n"
     ]
    }
   ],
   "source": [
    "import numpy as np\n",
    "\n",
    "# Information about false positives\n",
    "fp = np.logical_and(y_test != y_pred, y_pred == 1)\n",
    "tn = np.logical_and(y_test == y_pred, y_test == 0)\n",
    "fn = np.logical_and(y_test != y_pred, y_pred == 0)\n",
    "tp = np.logical_and(y_test == y_pred, y_test == 1)\n",
    "\n",
    "X_fp = X_test[fp]\n",
    "X_tn = X_test[tn]\n",
    "X_fn = X_test[fn]\n",
    "X_tp = X_test[tp]\n",
    "\n",
    "data_fp = dataTest.loc[X_fp.index]\n",
    "data_fn = dataTest.loc[X_fn.index]\n",
    "data_tp = dataTest.loc[X_tp.index]\n",
    "data_tn = dataTest.loc[X_tn.index]\n",
    "\n",
    "data_fp_fr0 = data_fp[data_fp[\"flakeRate\"] > 0]\n",
    "\n",
    "print(\"Number of FP:\", len(X_fp))\n",
    "print(\"Number of TN:\", len(X_tn))\n",
    "print(\"Number of FP with flake Rate > 0:\", len(data_fp_fr0))\n",
    "print(\"FPR:\", len(X_fp) / (len(X_fp) + len(X_tn)))"
   ]
  }
 ],
 "metadata": {
  "kernelspec": {
   "display_name": "chromium",
   "language": "python",
   "name": "chromium"
  },
  "language_info": {
   "codemirror_mode": {
    "name": "ipython",
    "version": 3
   },
   "file_extension": ".py",
   "mimetype": "text/x-python",
   "name": "python",
   "nbconvert_exporter": "python",
   "pygments_lexer": "ipython3",
   "version": "3.8.3"
  }
 },
 "nbformat": 4,
 "nbformat_minor": 4
}
